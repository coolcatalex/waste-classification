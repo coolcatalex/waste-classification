{
 "cells": [
  {
   "cell_type": "markdown",
   "metadata": {
    "id": "_-cf0JDnoUsz"
   },
   "source": [
    "# TrashNet Inference"
   ]
  },
  {
   "cell_type": "markdown",
   "metadata": {
    "id": "m-VHz4GyodHe"
   },
   "source": [
    "## Download image"
   ]
  },
  {
   "cell_type": "code",
   "execution_count": 1,
   "metadata": {
    "colab": {
     "base_uri": "https://localhost:8080/"
    },
    "executionInfo": {
     "elapsed": 492,
     "status": "ok",
     "timestamp": 1722007740986,
     "user": {
      "displayName": "Pankaj Choudhury",
      "userId": "11381187948817891789"
     },
     "user_tz": -330
    },
    "id": "mG4AiMoTofcd",
    "outputId": "59c8cc4a-5417-4b73-eec0-588b19dc1b69"
   },
   "outputs": [
    {
     "name": "stderr",
     "output_type": "stream",
     "text": [
      "'wget' is not recognized as an internal or external command,\n",
      "operable program or batch file.\n"
     ]
    }
   ],
   "source": [
    "!wget https://live.staticflickr.com/1/898231_ca259fd6e0_b.jpg"
   ]
  },
  {
   "cell_type": "code",
   "execution_count": 1,
   "metadata": {
    "executionInfo": {
     "elapsed": 496,
     "status": "ok",
     "timestamp": 1722007987619,
     "user": {
      "displayName": "Pankaj Choudhury",
      "userId": "11381187948817891789"
     },
     "user_tz": -330
    },
    "id": "1dlo0mXZoR6K"
   },
   "outputs": [
    {
     "ename": "ModuleNotFoundError",
     "evalue": "No module named 'torch'",
     "output_type": "error",
     "traceback": [
      "\u001b[1;31m---------------------------------------------------------------------------\u001b[0m",
      "\u001b[1;31mModuleNotFoundError\u001b[0m                       Traceback (most recent call last)",
      "\u001b[1;32m~\\AppData\\Local\\Temp\\ipykernel_37604\\4216059260.py\u001b[0m in \u001b[0;36m<module>\u001b[1;34m\u001b[0m\n\u001b[1;32m----> 1\u001b[1;33m \u001b[1;32mimport\u001b[0m \u001b[0mtorch\u001b[0m\u001b[1;33m\u001b[0m\u001b[1;33m\u001b[0m\u001b[0m\n\u001b[0m\u001b[0;32m      2\u001b[0m \u001b[1;32mimport\u001b[0m \u001b[0mtorch\u001b[0m\u001b[1;33m.\u001b[0m\u001b[0mnn\u001b[0m \u001b[1;32mas\u001b[0m \u001b[0mnn\u001b[0m\u001b[1;33m\u001b[0m\u001b[1;33m\u001b[0m\u001b[0m\n\u001b[0;32m      3\u001b[0m \u001b[1;32mfrom\u001b[0m \u001b[0mtorchvision\u001b[0m \u001b[1;32mimport\u001b[0m \u001b[0mtransforms\u001b[0m\u001b[1;33m,\u001b[0m \u001b[0mmodels\u001b[0m\u001b[1;33m\u001b[0m\u001b[1;33m\u001b[0m\u001b[0m\n\u001b[0;32m      4\u001b[0m \u001b[1;32mfrom\u001b[0m \u001b[0mPIL\u001b[0m \u001b[1;32mimport\u001b[0m \u001b[0mImage\u001b[0m\u001b[1;33m\u001b[0m\u001b[1;33m\u001b[0m\u001b[0m\n\u001b[0;32m      5\u001b[0m \u001b[1;32mimport\u001b[0m \u001b[0mos\u001b[0m\u001b[1;33m\u001b[0m\u001b[1;33m\u001b[0m\u001b[0m\n",
      "\u001b[1;31mModuleNotFoundError\u001b[0m: No module named 'torch'"
     ]
    }
   ],
   "source": [
    "import torch\n",
    "import torch.nn as nn\n",
    "from torchvision import transforms, models\n",
    "from PIL import Image\n",
    "import os\n",
    "import argparse\n",
    "import matplotlib.pyplot as plt\n",
    "\n",
    "def get_model(model_name, num_classes):\n",
    "    \"\"\"Function to return the specified model.\"\"\"\n",
    "    model = getattr(models, model_name)(pretrained=True)\n",
    "\n",
    "    if hasattr(model, 'classifier') and isinstance(model.classifier, nn.Sequential):\n",
    "        num_ftrs = model.classifier[-1].in_features\n",
    "        model.classifier[-1] = nn.Linear(num_ftrs, num_classes)\n",
    "    elif hasattr(model, 'fc'):\n",
    "        num_ftrs = model.fc.in_features\n",
    "        model.fc = nn.Linear(num_ftrs, num_classes)\n",
    "    elif hasattr(model, 'classifier') and isinstance(model.classifier, nn.Conv2d):\n",
    "        model.classifier = nn.Conv2d(512, num_classes, kernel_size=(1, 1), stride=(1, 1))\n",
    "    else:\n",
    "        raise ValueError(f\"Model {model_name} is not supported or needs custom handling.\")\n",
    "\n",
    "    return model\n",
    "\n",
    "\n",
    "def load_image(image_path, transform=None):\n",
    "    \"\"\"Load an image and apply transformations.\"\"\"\n",
    "    image = Image.open(image_path).convert('RGB')\n",
    "    if transform is not None:\n",
    "        image = transform(image)\n",
    "    return image\n",
    "\n",
    "\n",
    "def predict(image_path, model, transform, class_names, device):\n",
    "    \"\"\"Run inference on an image and return the predicted class.\"\"\"\n",
    "    model.eval()\n",
    "    image = load_image(image_path, transform)\n",
    "    image = image.unsqueeze(0)  # Add batch dimension\n",
    "    image = image.to(device)  # Move the input to the same device as the model\n",
    "\n",
    "    with torch.no_grad():\n",
    "        outputs = model(image)\n",
    "        probabilities = torch.softmax(outputs, dim=1).squeeze()\n",
    "        _, predicted = torch.max(outputs, 1)\n",
    "        predicted_class = class_names[predicted.item()]\n",
    "        # print(probabilities.shape, probabilities[predicted.item()], predicted.item())\n",
    "    return predicted_class, probabilities[predicted.item()]\n",
    "\n",
    "\n",
    "def get_class_names(data_path):\n",
    "    \"\"\"Get class names from the subdirectories of the given path.\"\"\"\n",
    "    class_names = [d.name for d in os.scandir(data_path) if d.is_dir()]\n",
    "    class_names.sort()\n",
    "    return class_names\n",
    "\n",
    "\n",
    "def main_predict(data_path, model, image_path, model_path):\n",
    "    # Define transformations for the input image\n",
    "    transform = transforms.Compose([\n",
    "        transforms.Resize((224, 224)),\n",
    "        transforms.ToTensor(),\n",
    "        transforms.Normalize(mean=[0.485, 0.456, 0.406], std=[0.229, 0.224, 0.225])\n",
    "    ])\n",
    "    device = torch.device('cuda' if torch.cuda.is_available() else 'cpu')\n",
    "    # Get class names from the training data path\n",
    "    class_names = get_class_names(data_path)\n",
    "    # print(class_names)\n",
    "    # Load the specified model\n",
    "    model = get_model(model, len(class_names))\n",
    "    model.load_state_dict(torch.load(model_path, map_location=device))\n",
    "\n",
    "    # Use GPU if available\n",
    "\n",
    "    model = model.to(device)\n",
    "\n",
    "    # Perform inference\n",
    "    predicted_class, predicted_probability = predict(image_path, model, transform, class_names, device)\n",
    "    print(f'Predicted class: {predicted_class}')\n",
    "    print(f'Prediction probability: {predicted_probability*100:0.2f}%')\n",
    "\n",
    "    img = Image.open(image_path).convert('RGB')\n",
    "    plt.imshow(img)\n",
    "    plt.title(f'Predicted: {predicted_class}\\nProbability: {predicted_probability*100:.2f}%')\n",
    "    plt.axis('off')\n",
    "    plt.show()"
   ]
  },
  {
   "cell_type": "code",
   "execution_count": 2,
   "metadata": {
    "colab": {
     "base_uri": "https://localhost:8080/",
     "height": 484
    },
    "executionInfo": {
     "elapsed": 16898,
     "status": "ok",
     "timestamp": 1722008044128,
     "user": {
      "displayName": "Pankaj Choudhury",
      "userId": "11381187948817891789"
     },
     "user_tz": -330
    },
    "id": "0GGuOq-woaw1",
    "outputId": "04a48776-c7dc-4aee-c26f-d8fa475bff52"
   },
   "outputs": [
    {
     "ename": "NameError",
     "evalue": "name 'main_predict' is not defined",
     "output_type": "error",
     "traceback": [
      "\u001b[1;31m---------------------------------------------------------------------------\u001b[0m",
      "\u001b[1;31mNameError\u001b[0m                                 Traceback (most recent call last)",
      "\u001b[1;32m~\\AppData\\Local\\Temp\\ipykernel_37604\\2272011807.py\u001b[0m in \u001b[0;36m<module>\u001b[1;34m\u001b[0m\n\u001b[0;32m      7\u001b[0m \u001b[1;31m# model weight localtion. Note: change the model weights too according to model name\u001b[0m\u001b[1;33m\u001b[0m\u001b[1;33m\u001b[0m\u001b[1;33m\u001b[0m\u001b[0m\n\u001b[0;32m      8\u001b[0m \u001b[0mmodel_path\u001b[0m\u001b[1;33m=\u001b[0m\u001b[1;34m'log/resnet152_data_aug_imagenet_pretrained/model-best.pth'\u001b[0m\u001b[1;33m\u001b[0m\u001b[1;33m\u001b[0m\u001b[0m\n\u001b[1;32m----> 9\u001b[1;33m \u001b[0mmain_predict\u001b[0m\u001b[1;33m(\u001b[0m\u001b[0mdata_path\u001b[0m\u001b[1;33m,\u001b[0m \u001b[0mmodel\u001b[0m\u001b[1;33m,\u001b[0m \u001b[0mimage_path\u001b[0m\u001b[1;33m,\u001b[0m \u001b[0mmodel_path\u001b[0m\u001b[1;33m)\u001b[0m\u001b[1;33m\u001b[0m\u001b[1;33m\u001b[0m\u001b[0m\n\u001b[0m",
      "\u001b[1;31mNameError\u001b[0m: name 'main_predict' is not defined"
     ]
    }
   ],
   "source": [
    "# test dataset location\n",
    "data_path='dataset/test_resized'\n",
    "# model name eg. mobilenet_v2, mobilenet_v3_large, mobilenet_v2_small, resnet152\n",
    "model='resnet152'\n",
    "# Test image localtion\n",
    "image_path='/content/898231_ca259fd6e0_b.jpg'\n",
    "# model weight localtion. Note: change the model weights too according to model name\n",
    "model_path='log/resnet152_data_aug_imagenet_pretrained/model-best.pth'\n",
    "main_predict(data_path, model, image_path, model_path)"
   ]
  },
  {
   "cell_type": "code",
   "execution_count": null,
   "metadata": {
    "id": "VeMoIo7fpehU"
   },
   "outputs": [],
   "source": []
  }
 ],
 "metadata": {
  "colab": {
   "authorship_tag": "ABX9TyPItzFVq/wrgkyjHGqaDQ4Z",
   "mount_file_id": "13pMC2dVXt3tmiVTcMZHxmEKeJMprKioA",
   "provenance": []
  },
  "kernelspec": {
   "display_name": "Python 3 (ipykernel)",
   "language": "python",
   "name": "python3"
  },
  "language_info": {
   "codemirror_mode": {
    "name": "ipython",
    "version": 3
   },
   "file_extension": ".py",
   "mimetype": "text/x-python",
   "name": "python",
   "nbconvert_exporter": "python",
   "pygments_lexer": "ipython3",
   "version": "3.7.12"
  }
 },
 "nbformat": 4,
 "nbformat_minor": 1
}
